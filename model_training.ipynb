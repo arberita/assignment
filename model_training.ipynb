{
 "cells": [
  {
   "cell_type": "code",
   "execution_count": 1,
   "id": "7f59f152",
   "metadata": {},
   "outputs": [],
   "source": [
    "import os\n",
    "import pandas as pd\n",
    "import numpy as np\n",
    "import cv2\n",
    "import tensorflow as tf\n",
    "from tensorflow.keras import layers, models\n",
    "from tqdm import tqdm\n",
    "from tensorflow.keras.utils import to_categorical\n",
    "from tensorflow.keras.metrics import Precision, Recall, AUC\n",
    "# from sklearn.model_selection import train_test_split"
   ]
  },
  {
   "cell_type": "code",
   "execution_count": 2,
   "id": "d170d808",
   "metadata": {},
   "outputs": [],
   "source": [
    "#Function to preprocess image - resize and normalize\n",
    "def preprocess_image(image_path, target_size=(224, 224)):\n",
    "    image = cv2.imread(image_path) #Read the image\n",
    "    image = cv2.cvtColor(image, cv2.COLOR_BGR2RGB) #Convert BGR to RGB\n",
    "    image = cv2.resize(image, target_size) #Resize the image\n",
    "    image = image.astype(np.float32) / 255.0  #Normalize pixel values between 0 and 1\n",
    "    return image"
   ]
  },
  {
   "cell_type": "code",
   "execution_count": 3,
   "id": "24d39995",
   "metadata": {},
   "outputs": [],
   "source": [
    "# Load the metadata file\n",
    "df = pd.read_csv('/Users/arberite/Desktop/Assigment/dataset/metadata.csv', index_col = 0)"
   ]
  },
  {
   "cell_type": "code",
   "execution_count": 4,
   "id": "3f5952bc",
   "metadata": {},
   "outputs": [
    {
     "name": "stderr",
     "output_type": "stream",
     "text": [
      "100%|██████████████████████████████████████| 8515/8515 [00:37<00:00, 227.07it/s]\n"
     ]
    }
   ],
   "source": [
    "#Create Train Sets\n",
    "\n",
    "#Set the directory path for the training images\n",
    "train_dir_path = '/Users/arberite/Desktop/Assigment/dataset/images/train/'\n",
    "\n",
    "#Preprocess the training images and labels\n",
    "X_train = []\n",
    "y_train = []\n",
    "for dir_item in tqdm(os.listdir(train_dir_path)):\n",
    "    image_id = dir_item.split('.')[0]  # Extract image id\n",
    "    lesion_type = df.loc[image_id]['lesion_type']  # Get lesion type based on image id\n",
    "    image_path = os.path.join(train_dir_path, dir_item)  # Get image path\n",
    "    X_train.append(preprocess_image(image_path))  # Append preprocessed image to list\n",
    "    y_train.append(lesion_type)  # Append lesion type to list\n",
    "    \n",
    "# Convert lists to numpy arrays    \n",
    "X_train = np.array(X_train)\n",
    "y_train = np.array(y_train)"
   ]
  },
  {
   "cell_type": "code",
   "execution_count": 5,
   "id": "6612f2f5",
   "metadata": {},
   "outputs": [
    {
     "name": "stderr",
     "output_type": "stream",
     "text": [
      "100%|██████████████████████████████████████| 1000/1000 [00:04<00:00, 232.29it/s]\n"
     ]
    }
   ],
   "source": [
    "#Create Test Sets\n",
    "\n",
    "#Set the directory path for the testing images\n",
    "test_dir_path = '/Users/arberite/Desktop/Assigment/dataset/images/test/'\n",
    "\n",
    "#Preprocess the testing images and labels\n",
    "X_test = []\n",
    "y_test = []\n",
    "for dir_item in tqdm(os.listdir(test_dir_path)):\n",
    "    image_id = dir_item.split('.')[0]\n",
    "    lesion_type = df.loc[image_id]['lesion_type']\n",
    "    \n",
    "    #print(image_id, lesion_type)\n",
    "    image_path = os.path.join(test_dir_path, dir_item)\n",
    "    X_test.append(preprocess_image(image_path))\n",
    "    y_test.append(lesion_type)\n",
    "    \n",
    "X_test = np.array(X_test)\n",
    "y_test = np.array(y_test)"
   ]
  },
  {
   "cell_type": "code",
   "execution_count": 6,
   "id": "2baad4f9",
   "metadata": {},
   "outputs": [
    {
     "name": "stderr",
     "output_type": "stream",
     "text": [
      "100%|████████████████████████████████████████| 500/500 [00:02<00:00, 233.16it/s]\n"
     ]
    }
   ],
   "source": [
    "#Create Validation Sets\n",
    "\n",
    "#Set the directory path for the validation images\n",
    "validation_dir_path = '/Users/arberite/Desktop/Assigment/dataset/images/validation/'\n",
    "\n",
    "X_val = []\n",
    "y_val = []\n",
    "for dir_item in tqdm(os.listdir(validation_dir_path)):\n",
    "    image_id = dir_item.split('.')[0]\n",
    "    lesion_type = df.loc[image_id]['lesion_type']\n",
    "    \n",
    "    #print(image_id, lesion_type)\n",
    "    image_path = os.path.join(validation_dir_path, dir_item)\n",
    "    X_val.append(preprocess_image(image_path))\n",
    "    y_val.append(lesion_type)\n",
    "    \n",
    "X_val = np.array(X_val)\n",
    "y_val = np.array(y_val)"
   ]
  },
  {
   "cell_type": "code",
   "execution_count": 7,
   "id": "00c4724e",
   "metadata": {},
   "outputs": [],
   "source": [
    "# Function to create the CNN model\n",
    "def create_simple_cnn(input_shape, num_classes):\n",
    "    model = models.Sequential()\n",
    "    model.add(layers.Conv2D(32, (3, 3), activation='relu', input_shape=input_shape))\n",
    "    model.add(layers.MaxPooling2D((2, 2)))\n",
    "    model.add(layers.Conv2D(64, (3, 3), activation='relu'))\n",
    "    model.add(layers.MaxPooling2D((2, 2)))\n",
    "    model.add(layers.Conv2D(128, (3, 3), activation='relu'))\n",
    "    model.add(layers.MaxPooling2D((2, 2)))\n",
    "    model.add(layers.Flatten())\n",
    "    model.add(layers.Dense(128, activation='relu'))\n",
    "    model.add(layers.Dense(num_classes, activation='softmax'))\n",
    "    return model"
   ]
  },
  {
   "cell_type": "code",
   "execution_count": 8,
   "id": "d8260977",
   "metadata": {},
   "outputs": [],
   "source": [
    "#Get input shape and number of classes\n",
    "input_shape = X_train.shape[1:]\n",
    "num_classes = len(np.unique(y_train))"
   ]
  },
  {
   "cell_type": "code",
   "execution_count": 9,
   "id": "29c3a677",
   "metadata": {},
   "outputs": [],
   "source": [
    "#Create the model\n",
    "model = create_simple_cnn(input_shape, num_classes)"
   ]
  },
  {
   "cell_type": "code",
   "execution_count": 10,
   "id": "c0ba6b09",
   "metadata": {},
   "outputs": [],
   "source": [
    "#Compile the model\n",
    "model.compile(optimizer='adam',\n",
    "              loss='sparse_categorical_crossentropy',\n",
    "              metrics=['accuracy'])"
   ]
  },
  {
   "cell_type": "code",
   "execution_count": 11,
   "id": "05fad00f",
   "metadata": {},
   "outputs": [
    {
     "name": "stdout",
     "output_type": "stream",
     "text": [
      "Model: \"sequential\"\n",
      "_________________________________________________________________\n",
      " Layer (type)                Output Shape              Param #   \n",
      "=================================================================\n",
      " conv2d (Conv2D)             (None, 222, 222, 32)      896       \n",
      "                                                                 \n",
      " max_pooling2d (MaxPooling2  (None, 111, 111, 32)      0         \n",
      " D)                                                              \n",
      "                                                                 \n",
      " conv2d_1 (Conv2D)           (None, 109, 109, 64)      18496     \n",
      "                                                                 \n",
      " max_pooling2d_1 (MaxPoolin  (None, 54, 54, 64)        0         \n",
      " g2D)                                                            \n",
      "                                                                 \n",
      " conv2d_2 (Conv2D)           (None, 52, 52, 128)       73856     \n",
      "                                                                 \n",
      " max_pooling2d_2 (MaxPoolin  (None, 26, 26, 128)       0         \n",
      " g2D)                                                            \n",
      "                                                                 \n",
      " flatten (Flatten)           (None, 86528)             0         \n",
      "                                                                 \n",
      " dense (Dense)               (None, 128)               11075712  \n",
      "                                                                 \n",
      " dense_1 (Dense)             (None, 7)                 903       \n",
      "                                                                 \n",
      "=================================================================\n",
      "Total params: 11169863 (42.61 MB)\n",
      "Trainable params: 11169863 (42.61 MB)\n",
      "Non-trainable params: 0 (0.00 Byte)\n",
      "_________________________________________________________________\n"
     ]
    }
   ],
   "source": [
    "#Summary of the model\n",
    "model.summary()"
   ]
  },
  {
   "cell_type": "code",
   "execution_count": 12,
   "id": "621567d2",
   "metadata": {},
   "outputs": [
    {
     "name": "stdout",
     "output_type": "stream",
     "text": [
      "Epoch 1/2\n",
      "134/134 [==============================] - 168s 1s/step - loss: 1.0139 - accuracy: 0.6581 - val_loss: 1.0201 - val_accuracy: 0.6800\n",
      "Epoch 2/2\n",
      "134/134 [==============================] - 166s 1s/step - loss: 0.8570 - accuracy: 0.6871 - val_loss: 0.7686 - val_accuracy: 0.7340\n",
      "32/32 [==============================] - 6s 165ms/step\n"
     ]
    }
   ],
   "source": [
    "# Train the model\n",
    "batch_size = 64\n",
    "epochs = 2\n",
    "model.fit(X_train, y_train, batch_size=batch_size, epochs=epochs, validation_data=(X_val, y_val))\n",
    "y_test_pred = model.predict(X_test)"
   ]
  },
  {
   "cell_type": "code",
   "execution_count": 13,
   "id": "f0099b0a",
   "metadata": {},
   "outputs": [
    {
     "name": "stdout",
     "output_type": "stream",
     "text": [
      "32/32 [==============================] - 5s 150ms/step\n"
     ]
    }
   ],
   "source": [
    "#Make predictions on the test set\n",
    "y_test_pred = model.predict(X_test)"
   ]
  },
  {
   "cell_type": "code",
   "execution_count": 14,
   "id": "a53f0681",
   "metadata": {},
   "outputs": [],
   "source": [
    "#Get the predicted labels\n",
    "y_test_pred_labels = np.argmax(y_test_pred, axis=1)"
   ]
  },
  {
   "cell_type": "code",
   "execution_count": 15,
   "id": "02c9a943",
   "metadata": {},
   "outputs": [
    {
     "name": "stderr",
     "output_type": "stream",
     "text": [
      "/Users/arberite/anaconda3/lib/python3.11/site-packages/keras/src/engine/training.py:3000: UserWarning: You are saving your model as an HDF5 file via `model.save()`. This file format is considered legacy. We recommend using instead the native Keras format, e.g. `model.save('my_model.keras')`.\n",
      "  saving_api.save_model(\n"
     ]
    }
   ],
   "source": [
    "# Save the trained model\n",
    "model.save('prediction_model.h5') "
   ]
  },
  {
   "cell_type": "code",
   "execution_count": 18,
   "id": "14dda15a",
   "metadata": {},
   "outputs": [
    {
     "name": "stdout",
     "output_type": "stream",
     "text": [
      "Pandas version: 1.5.3\n",
      "Numpy version: 1.24.3\n",
      "OpenCV version: 4.8.0\n",
      "TensorFlow version: 2.13.0\n"
     ]
    }
   ],
   "source": [
    "print(\"Pandas version:\", pd.__version__)\n",
    "print(\"Numpy version:\", np.__version__)\n",
    "print(\"OpenCV version:\", cv2.__version__)\n",
    "print(\"TensorFlow version:\", tf.__version__)"
   ]
  },
  {
   "cell_type": "code",
   "execution_count": null,
   "id": "9b23d25f",
   "metadata": {},
   "outputs": [],
   "source": []
  }
 ],
 "metadata": {
  "kernelspec": {
   "display_name": "Python 3 (ipykernel)",
   "language": "python",
   "name": "python3"
  },
  "language_info": {
   "codemirror_mode": {
    "name": "ipython",
    "version": 3
   },
   "file_extension": ".py",
   "mimetype": "text/x-python",
   "name": "python",
   "nbconvert_exporter": "python",
   "pygments_lexer": "ipython3",
   "version": "3.11.3"
  }
 },
 "nbformat": 4,
 "nbformat_minor": 5
}
